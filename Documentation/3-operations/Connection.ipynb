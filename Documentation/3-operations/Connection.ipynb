{
 "cells": [
  {
   "cell_type": "code",
   "execution_count": null,
   "metadata": {
    "dotnet_interactive": {
     "language": "csharp"
    },
    "polyglot_notebook": {
     "kernelName": "csharp"
    }
   },
   "outputs": [],
   "source": [
    "#!import \"../0-setup/Packages.ipynb\""
   ]
  },
  {
   "cell_type": "code",
   "execution_count": null,
   "metadata": {
    "dotnet_interactive": {
     "language": "csharp"
    },
    "polyglot_notebook": {
     "kernelName": "csharp"
    }
   },
   "outputs": [],
   "source": [
    "using System;\n",
    "using System.IO;\n",
    "using System.Text.Json;\n",
    "using System.Net.Http.Headers;\n",
    "using System.Threading.Tasks;\n",
    "\n",
    "class ConfigurationFile\n",
    "{\n",
    "    public string environment { get; set; }\n",
    "    public Dictionary<string, Dictionary<string, string>> settings { get; set; } =\n",
    "        new Dictionary<string, Dictionary<string, string>>();\n",
    "}\n",
    "\n",
    "// Load the configuration from `configuration.json`, if present.\n",
    "var configurationFile = File.Exists(\"./configuration.json\") ?\n",
    "    JsonSerializer.Deserialize<ConfigurationFile>(File.ReadAllText(\"./configuration.json\")) :\n",
    "    new ConfigurationFile();\n",
    "\n",
    "var environmentName = configurationFile.environment ?? \"local\";\n",
    "var configuration = configurationFile.settings.ContainsKey(environmentName) ?\n",
    "    configurationFile.settings[environmentName] :\n",
    "    new Dictionary<string, string>();\n",
    "\n",
    "var jinagaEndpoint = configuration.ContainsKey(\"jinagaEndpoint\") ?\n",
    "    configuration[\"jinagaEndpoint\"] :\n",
    "    \"http://localhost:8000/jinaga\";\n",
    "\n",
    "var token = configuration.ContainsKey(\"token\") ?\n",
    "    configuration[\"token\"] :\n",
    "    null;\n",
    "\n",
    "\n",
    "public class BearerAuthenticationHandler : Jinaga.Http.IHttpAuthenticationProvider\n",
    "{\n",
    "    public readonly string token;\n",
    "\n",
    "    public BearerAuthenticationHandler(string token)\n",
    "    {\n",
    "        this.token = token;\n",
    "    }\n",
    "\n",
    "    public void SetRequestHeaders(HttpRequestHeaders headers)\n",
    "    {\n",
    "        headers.Authorization = new AuthenticationHeaderValue(\"Bearer\", token);\n",
    "    }\n",
    "\n",
    "    public Task<bool> Reauthenticate()\n",
    "    {\n",
    "        return Task.FromResult(false);\n",
    "    }\n",
    "}\n",
    "\n",
    "// Create a Jinaga client for the portal\n",
    "var jinagaClient = JinagaClient.Create(opt =>\n",
    "{\n",
    "    opt.HttpEndpoint = new Uri(jinagaEndpoint);\n",
    "    if (token != null)\n",
    "    {\n",
    "        opt.HttpAuthenticationProvider = new BearerAuthenticationHandler(token);\n",
    "    }\n",
    "});\n",
    "\n",
    "// Log in to the portal.\n",
    "var (user, profile) = await jinagaClient.Login();\n",
    "\n",
    "(user, profile)"
   ]
  }
 ],
 "metadata": {
  "kernelspec": {
   "display_name": ".NET (C#)",
   "language": "C#",
   "name": ".net-csharp"
  },
  "polyglot_notebook": {
   "kernelInfo": {
    "defaultKernelName": "csharp",
    "items": [
     {
      "aliases": [],
      "languageName": "csharp",
      "name": "csharp"
     }
    ]
   }
  }
 },
 "nbformat": 4,
 "nbformat_minor": 2
}
